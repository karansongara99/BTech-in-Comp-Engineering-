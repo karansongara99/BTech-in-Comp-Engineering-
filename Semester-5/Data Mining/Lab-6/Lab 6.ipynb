{
 "cells": [
  {
   "cell_type": "markdown",
   "id": "ee840995",
   "metadata": {},
   "source": [
    "<a href='https://www.darshan.ac.in/'> <img src='https://www.darshan.ac.in/Content/media/DU_Logo.svg' width=\"250\" height=\"300\"/></a>\n",
    "<pre>\n",
    "<center><b><h1>Roll No - 130</b></center>\n",
    "    <center><b><h1>Enrollment No - 24010101694</b></center>\n",
    "<center><b><h1>Lab - 6</b></center>    \n",
    "    <center><b><h1>Karan Sonagara</b></center>  \n",
    "<pre>"
   ]
  },
  {
   "cell_type": "markdown",
   "id": "55e2da2f",
   "metadata": {},
   "source": [
    "\n",
    "## 🔍 What is Data Reduction?\n",
    "\n",
    "Data reduction refers to the process of reducing the amount of data that needs to be processed and stored, while preserving the essential patterns in the data.\n",
    "\n",
    "### Why do we reduce data?\n",
    "- To reduce computational cost.\n",
    "- To remove noise and redundant features.\n",
    "- To improve model performance and training time.\n",
    "- To visualize high-dimensional data in 2D or 3D.\n",
    "\n",
    "Common data reduction techniques include:\n",
    "- Principal Component Analysis (PCA)\n",
    "- Feature selection\n",
    "- Sampling\n"
   ]
  },
  {
   "cell_type": "markdown",
   "id": "c57398c8",
   "metadata": {},
   "source": [
    "\n",
    "## 📉 What is Principal Component Analysis (PCA)?\n",
    "\n",
    "PCA is a **dimensionality reduction technique** that transforms a dataset into a new coordinate system. It identifies the **directions (principal components)** where the variance of the data is maximized.\n",
    "\n",
    "### Key Concepts:\n",
    "- **Principal Components**: New features (linear combinations of original features) capturing most variance.\n",
    "- **Eigenvectors & Eigenvalues**: Used to compute these principal directions.\n",
    "- **Covariance Matrix**: Measures how features vary with each other.\n",
    "\n",
    "PCA helps in **visualizing high-dimensional data**, **noise reduction**, and **speeding up algorithms**.\n"
   ]
  },
  {
   "cell_type": "markdown",
   "id": "8d08c528",
   "metadata": {},
   "source": [
    "\n",
    "## 🧠 NumPy Functions Summary for PCA\n",
    "\n",
    "| Function | Purpose |\n",
    "|---------|---------|\n",
    "| `np.mean(X, axis=0)` | Compute mean of each column (feature-wise mean). |\n",
    "| `X - np.mean(X, axis=0)` | Centering the data (zero mean). |\n",
    "| `np.cov(X, rowvar=False)` | Compute covariance matrix for features. |\n",
    "| `np.linalg.eigh(cov_mat)` | Get eigenvalues and eigenvectors (for symmetric matrices). |\n",
    "| `np.argsort(values)[::-1]` | Sort values in descending order. |\n",
    "| `np.dot(X, eigenvectors)` | Project original data onto new axes. |\n"
   ]
  },
  {
   "cell_type": "markdown",
   "id": "719ba8cf",
   "metadata": {},
   "source": [
    "# Step 1: Load the Iris Dataset"
   ]
  },
  {
   "cell_type": "code",
   "execution_count": 1,
   "id": "01e5e138-8982-42f6-9e01-f0a9097054c1",
   "metadata": {},
   "outputs": [],
   "source": [
    "import numpy as np\n",
    "import pandas as pd\n",
    "import matplotlib as plt"
   ]
  },
  {
   "cell_type": "code",
   "execution_count": 2,
   "id": "31f30ae7",
   "metadata": {},
   "outputs": [
    {
     "data": {
      "text/html": [
       "<div>\n",
       "<style scoped>\n",
       "    .dataframe tbody tr th:only-of-type {\n",
       "        vertical-align: middle;\n",
       "    }\n",
       "\n",
       "    .dataframe tbody tr th {\n",
       "        vertical-align: top;\n",
       "    }\n",
       "\n",
       "    .dataframe thead th {\n",
       "        text-align: right;\n",
       "    }\n",
       "</style>\n",
       "<table border=\"1\" class=\"dataframe\">\n",
       "  <thead>\n",
       "    <tr style=\"text-align: right;\">\n",
       "      <th></th>\n",
       "      <th>sepal_length</th>\n",
       "      <th>sepal_width</th>\n",
       "      <th>petal_length</th>\n",
       "      <th>petal_width</th>\n",
       "      <th>species</th>\n",
       "    </tr>\n",
       "  </thead>\n",
       "  <tbody>\n",
       "    <tr>\n",
       "      <th>0</th>\n",
       "      <td>5.1</td>\n",
       "      <td>3.5</td>\n",
       "      <td>1.4</td>\n",
       "      <td>0.2</td>\n",
       "      <td>setosa</td>\n",
       "    </tr>\n",
       "    <tr>\n",
       "      <th>1</th>\n",
       "      <td>4.9</td>\n",
       "      <td>3.0</td>\n",
       "      <td>1.4</td>\n",
       "      <td>0.2</td>\n",
       "      <td>setosa</td>\n",
       "    </tr>\n",
       "    <tr>\n",
       "      <th>2</th>\n",
       "      <td>4.7</td>\n",
       "      <td>3.2</td>\n",
       "      <td>1.3</td>\n",
       "      <td>0.2</td>\n",
       "      <td>setosa</td>\n",
       "    </tr>\n",
       "    <tr>\n",
       "      <th>3</th>\n",
       "      <td>4.6</td>\n",
       "      <td>3.1</td>\n",
       "      <td>1.5</td>\n",
       "      <td>0.2</td>\n",
       "      <td>setosa</td>\n",
       "    </tr>\n",
       "    <tr>\n",
       "      <th>4</th>\n",
       "      <td>5.0</td>\n",
       "      <td>3.6</td>\n",
       "      <td>1.4</td>\n",
       "      <td>0.2</td>\n",
       "      <td>setosa</td>\n",
       "    </tr>\n",
       "    <tr>\n",
       "      <th>...</th>\n",
       "      <td>...</td>\n",
       "      <td>...</td>\n",
       "      <td>...</td>\n",
       "      <td>...</td>\n",
       "      <td>...</td>\n",
       "    </tr>\n",
       "    <tr>\n",
       "      <th>145</th>\n",
       "      <td>6.7</td>\n",
       "      <td>3.0</td>\n",
       "      <td>5.2</td>\n",
       "      <td>2.3</td>\n",
       "      <td>virginica</td>\n",
       "    </tr>\n",
       "    <tr>\n",
       "      <th>146</th>\n",
       "      <td>6.3</td>\n",
       "      <td>2.5</td>\n",
       "      <td>5.0</td>\n",
       "      <td>1.9</td>\n",
       "      <td>virginica</td>\n",
       "    </tr>\n",
       "    <tr>\n",
       "      <th>147</th>\n",
       "      <td>6.5</td>\n",
       "      <td>3.0</td>\n",
       "      <td>5.2</td>\n",
       "      <td>2.0</td>\n",
       "      <td>virginica</td>\n",
       "    </tr>\n",
       "    <tr>\n",
       "      <th>148</th>\n",
       "      <td>6.2</td>\n",
       "      <td>3.4</td>\n",
       "      <td>5.4</td>\n",
       "      <td>2.3</td>\n",
       "      <td>virginica</td>\n",
       "    </tr>\n",
       "    <tr>\n",
       "      <th>149</th>\n",
       "      <td>5.9</td>\n",
       "      <td>3.0</td>\n",
       "      <td>5.1</td>\n",
       "      <td>1.8</td>\n",
       "      <td>virginica</td>\n",
       "    </tr>\n",
       "  </tbody>\n",
       "</table>\n",
       "<p>150 rows × 5 columns</p>\n",
       "</div>"
      ],
      "text/plain": [
       "     sepal_length  sepal_width  petal_length  petal_width    species\n",
       "0             5.1          3.5           1.4          0.2     setosa\n",
       "1             4.9          3.0           1.4          0.2     setosa\n",
       "2             4.7          3.2           1.3          0.2     setosa\n",
       "3             4.6          3.1           1.5          0.2     setosa\n",
       "4             5.0          3.6           1.4          0.2     setosa\n",
       "..            ...          ...           ...          ...        ...\n",
       "145           6.7          3.0           5.2          2.3  virginica\n",
       "146           6.3          2.5           5.0          1.9  virginica\n",
       "147           6.5          3.0           5.2          2.0  virginica\n",
       "148           6.2          3.4           5.4          2.3  virginica\n",
       "149           5.9          3.0           5.1          1.8  virginica\n",
       "\n",
       "[150 rows x 5 columns]"
      ]
     },
     "execution_count": 2,
     "metadata": {},
     "output_type": "execute_result"
    }
   ],
   "source": [
    "iris=pd.read_csv(\"iris.csv\")\n",
    "iris"
   ]
  },
  {
   "cell_type": "code",
   "execution_count": 9,
   "id": "2d8e9309-316e-4147-b00b-e3260fb1b07a",
   "metadata": {},
   "outputs": [
    {
     "name": "stdout",
     "output_type": "stream",
     "text": [
      "(150, 4)\n"
     ]
    }
   ],
   "source": [
    "x=iris.drop(columns=\"species\")\n",
    "y=iris[\"species\"].map({\n",
    "    'setosa':0,\n",
    "    'versicolor':1,\n",
    "    'virginica':2\n",
    "})\n",
    "print(x.shape)"
   ]
  },
  {
   "cell_type": "code",
   "execution_count": 24,
   "id": "b914ff74-6805-4889-920d-c4222faa8695",
   "metadata": {},
   "outputs": [
    {
     "name": "stdout",
     "output_type": "stream",
     "text": [
      "574.1666666666667\n"
     ]
    }
   ],
   "source": [
    "arrcov = [40,80,45,65,10,55]\n",
    "print(np.cov(arrcov,rowvar=False))"
   ]
  },
  {
   "cell_type": "markdown",
   "id": "e30873a5",
   "metadata": {},
   "source": [
    "# Step 2: Standardize the data (zero mean)"
   ]
  },
  {
   "cell_type": "code",
   "execution_count": 13,
   "id": "4c8ce884",
   "metadata": {},
   "outputs": [
    {
     "name": "stdout",
     "output_type": "stream",
     "text": [
      "     sepal_length  sepal_width  petal_length  petal_width\n",
      "0       -0.743333     0.442667        -2.358    -0.999333\n",
      "1       -0.943333    -0.057333        -2.358    -0.999333\n",
      "2       -1.143333     0.142667        -2.458    -0.999333\n",
      "3       -1.243333     0.042667        -2.258    -0.999333\n",
      "4       -0.843333     0.542667        -2.358    -0.999333\n",
      "..            ...          ...           ...          ...\n",
      "145      0.856667    -0.057333         1.442     1.100667\n",
      "146      0.456667    -0.557333         1.242     0.700667\n",
      "147      0.656667    -0.057333         1.442     0.800667\n",
      "148      0.356667     0.342667         1.642     1.100667\n",
      "149      0.056667    -0.057333         1.342     0.600667\n",
      "\n",
      "[150 rows x 4 columns]\n"
     ]
    },
    {
     "data": {
      "text/plain": [
       "(150, 4)"
      ]
     },
     "execution_count": 13,
     "metadata": {},
     "output_type": "execute_result"
    }
   ],
   "source": [
    "x_meaned= x-np.mean(x,axis=0)\n",
    "print(x_meaned)\n",
    "x_meaned.shape"
   ]
  },
  {
   "cell_type": "markdown",
   "id": "8f62f2a5",
   "metadata": {},
   "source": [
    "# Step 3: Compute the Covariance Matrix"
   ]
  },
  {
   "cell_type": "code",
   "execution_count": 15,
   "id": "e4c90ce5",
   "metadata": {
    "scrolled": true
   },
   "outputs": [
    {
     "name": "stdout",
     "output_type": "stream",
     "text": [
      "Coveriance Matrix [[ 0.68569351 -0.042434    1.27431544  0.51627069]\n",
      " [-0.042434    0.18997942 -0.32965638 -0.12163937]\n",
      " [ 1.27431544 -0.32965638  3.11627785  1.2956094 ]\n",
      " [ 0.51627069 -0.12163937  1.2956094   0.58100626]]\n",
      "Coveriance Matrix (4, 4)\n"
     ]
    }
   ],
   "source": [
    "cov_mat=np.cov(x_meaned, rowvar=False)\n",
    "print('Coveriance Matrix',cov_mat)\n",
    "print('Coveriance Matrix',cov_mat.shape)"
   ]
  },
  {
   "cell_type": "markdown",
   "id": "cd5599f1",
   "metadata": {},
   "source": [
    "# Step 4: Compute eigenvalues and eigenvectors"
   ]
  },
  {
   "cell_type": "code",
   "execution_count": 19,
   "id": "73ff20e5",
   "metadata": {},
   "outputs": [
    {
     "data": {
      "text/plain": [
       "EighResult(eigenvalues=array([0.02383509, 0.0782095 , 0.24267075, 4.22824171]), eigenvectors=array([[ 0.31548719,  0.58202985,  0.65658877, -0.36138659],\n",
       "       [-0.3197231 , -0.59791083,  0.73016143,  0.08452251],\n",
       "       [-0.47983899, -0.07623608, -0.17337266, -0.85667061],\n",
       "       [ 0.75365743, -0.54583143, -0.07548102, -0.3582892 ]]))"
      ]
     },
     "execution_count": 19,
     "metadata": {},
     "output_type": "execute_result"
    }
   ],
   "source": [
    "np.linalg.eigh(cov_mat)"
   ]
  },
  {
   "cell_type": "markdown",
   "id": "49ea0584",
   "metadata": {},
   "source": [
    "# Step 5: Compute eigenvalues and eigenvectors"
   ]
  },
  {
   "cell_type": "code",
   "execution_count": 21,
   "id": "787b0e22",
   "metadata": {},
   "outputs": [
    {
     "name": "stdout",
     "output_type": "stream",
     "text": [
      "eigenvalues:\n",
      " [0.02383509 0.0782095  0.24267075 4.22824171]\n",
      "eigenvectors:\n",
      " [[ 0.31548719  0.58202985  0.65658877 -0.36138659]\n",
      " [-0.3197231  -0.59791083  0.73016143  0.08452251]\n",
      " [-0.47983899 -0.07623608 -0.17337266 -0.85667061]\n",
      " [ 0.75365743 -0.54583143 -0.07548102 -0.3582892 ]]\n"
     ]
    }
   ],
   "source": [
    "eigen_values,eigen_vector=np.linalg.eigh(cov_mat)\n",
    "print(\"eigenvalues:\\n\",eigen_values)\n",
    "print(\"eigenvectors:\\n\",eigen_vector)"
   ]
  },
  {
   "cell_type": "markdown",
   "id": "2230c73b",
   "metadata": {},
   "source": [
    "# Step 6: Select the top k eigenvectors (top 2)"
   ]
  },
  {
   "cell_type": "code",
   "execution_count": 23,
   "id": "41ff9d25",
   "metadata": {},
   "outputs": [
    {
     "data": {
      "text/plain": [
       "(4, 2)"
      ]
     },
     "execution_count": 23,
     "metadata": {},
     "output_type": "execute_result"
    }
   ],
   "source": [
    "sorted_ind=np.argsort(eigen_values)[::-1]\n",
    "sorted_eigenvalues=eigen_values[sorted_ind]\n",
    "sorted_eigenvectors=eigen_vector[:,sorted_ind]\n",
    "k=2\n",
    "vector_subset=sorted_eigenvectors[:,0:k]\n",
    "vector_subset.shape"
   ]
  },
  {
   "cell_type": "markdown",
   "id": "c4831f32",
   "metadata": {},
   "source": [
    "# Step 7: Project the data onto the top k eigenvectors"
   ]
  },
  {
   "cell_type": "code",
   "execution_count": 25,
   "id": "70fceca9",
   "metadata": {},
   "outputs": [
    {
     "name": "stdout",
     "output_type": "stream",
     "text": [
      "[[ 2.68412563  0.31939725]\n",
      " [ 2.71414169 -0.17700123]\n",
      " [ 2.88899057 -0.14494943]\n",
      " [ 2.74534286 -0.31829898]\n",
      " [ 2.72871654  0.32675451]\n",
      " [ 2.28085963  0.74133045]\n",
      " [ 2.82053775 -0.08946138]\n",
      " [ 2.62614497  0.16338496]\n",
      " [ 2.88638273 -0.57831175]\n",
      " [ 2.6727558  -0.11377425]\n",
      " [ 2.50694709  0.6450689 ]\n",
      " [ 2.61275523  0.01472994]\n",
      " [ 2.78610927 -0.235112  ]\n",
      " [ 3.22380374 -0.51139459]\n",
      " [ 2.64475039  1.17876464]\n",
      " [ 2.38603903  1.33806233]\n",
      " [ 2.62352788  0.81067951]\n",
      " [ 2.64829671  0.31184914]\n",
      " [ 2.19982032  0.87283904]\n",
      " [ 2.5879864   0.51356031]\n",
      " [ 2.31025622  0.39134594]\n",
      " [ 2.54370523  0.43299606]\n",
      " [ 3.21593942  0.13346807]\n",
      " [ 2.30273318  0.09870885]\n",
      " [ 2.35575405 -0.03728186]\n",
      " [ 2.50666891 -0.14601688]\n",
      " [ 2.46882007  0.13095149]\n",
      " [ 2.56231991  0.36771886]\n",
      " [ 2.63953472  0.31203998]\n",
      " [ 2.63198939 -0.19696122]\n",
      " [ 2.58739848 -0.20431849]\n",
      " [ 2.4099325   0.41092426]\n",
      " [ 2.64886233  0.81336382]\n",
      " [ 2.59873675  1.09314576]\n",
      " [ 2.63692688 -0.12132235]\n",
      " [ 2.86624165  0.06936447]\n",
      " [ 2.62523805  0.59937002]\n",
      " [ 2.80068412  0.26864374]\n",
      " [ 2.98050204 -0.48795834]\n",
      " [ 2.59000631  0.22904384]\n",
      " [ 2.77010243  0.26352753]\n",
      " [ 2.84936871 -0.94096057]\n",
      " [ 2.99740655 -0.34192606]\n",
      " [ 2.40561449  0.18887143]\n",
      " [ 2.20948924  0.43666314]\n",
      " [ 2.71445143 -0.2502082 ]\n",
      " [ 2.53814826  0.50377114]\n",
      " [ 2.83946217 -0.22794557]\n",
      " [ 2.54308575  0.57941002]\n",
      " [ 2.70335978  0.10770608]\n",
      " [-1.28482569  0.68516047]\n",
      " [-0.93248853  0.31833364]\n",
      " [-1.46430232  0.50426282]\n",
      " [-0.18331772 -0.82795901]\n",
      " [-1.08810326  0.07459068]\n",
      " [-0.64166908 -0.41824687]\n",
      " [-1.09506066  0.28346827]\n",
      " [ 0.74912267 -1.00489096]\n",
      " [-1.04413183  0.2283619 ]\n",
      " [ 0.0087454  -0.72308191]\n",
      " [ 0.50784088 -1.26597119]\n",
      " [-0.51169856 -0.10398124]\n",
      " [-0.26497651 -0.55003646]\n",
      " [-0.98493451 -0.12481785]\n",
      " [ 0.17392537 -0.25485421]\n",
      " [-0.92786078  0.46717949]\n",
      " [-0.66028376 -0.35296967]\n",
      " [-0.23610499 -0.33361077]\n",
      " [-0.94473373 -0.54314555]\n",
      " [-0.04522698 -0.58383438]\n",
      " [-1.11628318 -0.08461685]\n",
      " [-0.35788842 -0.06892503]\n",
      " [-1.29818388 -0.32778731]\n",
      " [-0.92172892 -0.18273779]\n",
      " [-0.71485333  0.14905594]\n",
      " [-0.90017437  0.32850447]\n",
      " [-1.33202444  0.24444088]\n",
      " [-1.55780216  0.26749545]\n",
      " [-0.81329065 -0.1633503 ]\n",
      " [ 0.30558378 -0.36826219]\n",
      " [ 0.06812649 -0.70517213]\n",
      " [ 0.18962247 -0.68028676]\n",
      " [-0.13642871 -0.31403244]\n",
      " [-1.38002644 -0.42095429]\n",
      " [-0.58800644 -0.48428742]\n",
      " [-0.80685831  0.19418231]\n",
      " [-1.22069088  0.40761959]\n",
      " [-0.81509524 -0.37203706]\n",
      " [-0.24595768 -0.2685244 ]\n",
      " [-0.16641322 -0.68192672]\n",
      " [-0.46480029 -0.67071154]\n",
      " [-0.8908152  -0.03446444]\n",
      " [-0.23054802 -0.40438585]\n",
      " [ 0.70453176 -1.01224823]\n",
      " [-0.35698149 -0.50491009]\n",
      " [-0.33193448 -0.21265468]\n",
      " [-0.37621565 -0.29321893]\n",
      " [-0.64257601  0.01773819]\n",
      " [ 0.90646986 -0.75609337]\n",
      " [-0.29900084 -0.34889781]\n",
      " [-2.53119273 -0.00984911]\n",
      " [-1.41523588 -0.57491635]\n",
      " [-2.61667602  0.34390315]\n",
      " [-1.97153105 -0.1797279 ]\n",
      " [-2.35000592 -0.04026095]\n",
      " [-3.39703874  0.55083667]\n",
      " [-0.52123224 -1.19275873]\n",
      " [-2.93258707  0.3555    ]\n",
      " [-2.32122882 -0.2438315 ]\n",
      " [-2.91675097  0.78279195]\n",
      " [-1.66177415  0.24222841]\n",
      " [-1.80340195 -0.21563762]\n",
      " [-2.1655918   0.21627559]\n",
      " [-1.34616358 -0.77681835]\n",
      " [-1.58592822 -0.53964071]\n",
      " [-1.90445637  0.11925069]\n",
      " [-1.94968906  0.04194326]\n",
      " [-3.48705536  1.17573933]\n",
      " [-3.79564542  0.25732297]\n",
      " [-1.30079171 -0.76114964]\n",
      " [-2.42781791  0.37819601]\n",
      " [-1.19900111 -0.60609153]\n",
      " [-3.49992004  0.4606741 ]\n",
      " [-1.38876613 -0.20439933]\n",
      " [-2.2754305   0.33499061]\n",
      " [-2.61409047  0.56090136]\n",
      " [-1.25850816 -0.17970479]\n",
      " [-1.29113206 -0.11666865]\n",
      " [-2.12360872 -0.20972948]\n",
      " [-2.38800302  0.4646398 ]\n",
      " [-2.84167278  0.37526917]\n",
      " [-3.23067366  1.37416509]\n",
      " [-2.15943764 -0.21727758]\n",
      " [-1.44416124 -0.14341341]\n",
      " [-1.78129481 -0.49990168]\n",
      " [-3.07649993  0.68808568]\n",
      " [-2.14424331  0.1400642 ]\n",
      " [-1.90509815  0.04930053]\n",
      " [-1.16932634 -0.16499026]\n",
      " [-2.10761114  0.37228787]\n",
      " [-2.31415471  0.18365128]\n",
      " [-1.9222678   0.40920347]\n",
      " [-1.41523588 -0.57491635]\n",
      " [-2.56301338  0.2778626 ]\n",
      " [-2.41874618  0.3047982 ]\n",
      " [-1.94410979  0.1875323 ]\n",
      " [-1.52716661 -0.37531698]\n",
      " [-1.76434572  0.07885885]\n",
      " [-1.90094161  0.11662796]\n",
      " [-1.39018886 -0.28266094]]\n"
     ]
    },
    {
     "ename": "AttributeError",
     "evalue": "'int' object has no attribute 'shape'",
     "output_type": "error",
     "traceback": [
      "\u001b[1;31m---------------------------------------------------------------------------\u001b[0m",
      "\u001b[1;31mAttributeError\u001b[0m                            Traceback (most recent call last)",
      "Cell \u001b[1;32mIn[25], line 3\u001b[0m\n\u001b[0;32m      1\u001b[0m X_reduced\u001b[38;5;241m=\u001b[39mnp\u001b[38;5;241m.\u001b[39mdot(x_meaned, vector_subset)\n\u001b[0;32m      2\u001b[0m \u001b[38;5;28mprint\u001b[39m(X_reduced)\n\u001b[1;32m----> 3\u001b[0m k\u001b[38;5;241m.\u001b[39mshape\n",
      "\u001b[1;31mAttributeError\u001b[0m: 'int' object has no attribute 'shape'"
     ]
    }
   ],
   "source": [
    "X_reduced=np.dot(x_meaned, vector_subset)\n",
    "print(X_reduced)\n",
    "k.shape"
   ]
  },
  {
   "cell_type": "markdown",
   "id": "0307d3b7",
   "metadata": {},
   "source": [
    "# Step 8: Plot the PCA-Reduced Data"
   ]
  },
  {
   "cell_type": "code",
   "execution_count": 27,
   "id": "f3d8979d",
   "metadata": {},
   "outputs": [
    {
     "data": {
      "image/png": "[encoded data removed]",
      "text/plain": [
       "<Figure size 1000x600 with 1 Axes>"
      ]
     },
     "metadata": {},
     "output_type": "display_data"
    }
   ],
   "source": [
    "import matplotlib.pyplot as plt\n",
    "plt.figure(figsize=(10, 6))\n",
    "scatter = plt.scatter(X_reduced[:, 0], X_reduced[:, 1], c=y, cmap='viridis')\n",
    "plt.title(\"PCA - IRIS Dataset\", fontsize=14)\n",
    "plt.xlabel(\"Principal Component 1\")\n",
    "plt.ylabel(\"Principal Component 2\")\n",
    "plt.grid(True)\n",
    "# Optional: Custom legend\n",
    "colors = ['purple', 'teal', 'gold']\n",
    "labels = ['Setosa', 'Versicolor', 'Virginica']\n",
    "for i in range(3):\n",
    "    plt.scatter([], [], c=colors[i], label=labels[i])\n",
    "plt.legend()\n",
    "plt.show()"
   ]
  },
  {
   "cell_type": "markdown",
   "id": "5be22d0a",
   "metadata": {},
   "source": [
    "# Extra - Bining Method"
   ]
  },
  {
   "cell_type": "markdown",
   "id": "a199792d",
   "metadata": {},
   "source": [
    "# 5,10,11,13,15,35,50,55,72,92,204,215.\n",
    "Partition them into three bins by each of the following methods:\n",
    "(a) equal-frequency (equal-depth) partitioning\n",
    "(b) equal-width partitioning"
   ]
  },
  {
   "cell_type": "code",
   "execution_count": 31,
   "id": "2736ba83",
   "metadata": {},
   "outputs": [
    {
     "name": "stdout",
     "output_type": "stream",
     "text": [
      "Sotred data: [5, 10, 11, 13, 15, 35, 50, 55, 72, 92, 204, 215]\n"
     ]
    }
   ],
   "source": [
    "data=[5, 10, 11, 13, 15, 35, 50, 55, 72, 92, 204, 215]\n",
    "print('Sotred data:',data)\n"
   ]
  }
 ],
 "metadata": {
  "kernelspec": {
   "display_name": "Python 3 (ipykernel)",
   "language": "python",
   "name": "python3"
  },
  "language_info": {
   "codemirror_mode": {
    "name": "ipython",
    "version": 3
   },
   "file_extension": ".py",
   "mimetype": "text/x-python",
   "name": "python",
   "nbconvert_exporter": "python",
   "pygments_lexer": "ipython3",
   "version": "3.12.7"
  }
 },
 "nbformat": 4,
 "nbformat_minor": 5
}
