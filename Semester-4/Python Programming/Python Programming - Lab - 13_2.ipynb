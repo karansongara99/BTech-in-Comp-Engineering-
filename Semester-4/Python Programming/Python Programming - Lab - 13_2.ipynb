{
 "cells": [
  {
   "cell_type": "markdown",
   "metadata": {},
   "source": [
    "<a href='https://www.darshan.ac.in/'> <img src='https://www.darshan.ac.in/Content/media/DU_Logo.svg' width=\"250\" height=\"300\"/></a>\n",
    "<pre>\n",
    "<center><b><h1>Python Programming - 2301CS404</b></center>\n",
    "    <center><b><h1>Karan Sonagara - 24010101694</b></center>\n",
    "<center><b><h1>Lab - 13</b></center>    \n",
    "<pre>"
   ]
  },
  {
   "cell_type": "markdown",
   "metadata": {},
   "source": [
    "## Continued.."
   ]
  },
  {
   "cell_type": "markdown",
   "metadata": {},
   "source": [
    "### 10) Calculate area of a ractangle using object as an argument to a method."
   ]
  },
  {
   "cell_type": "code",
   "execution_count": 7,
   "metadata": {},
   "outputs": [
    {
     "name": "stdout",
     "output_type": "stream",
     "text": [
      "200\n"
     ]
    }
   ],
   "source": [
    "class AreaOFRectangle:\n",
    "    def calculate(self,lenght,breadth):\n",
    "        area = lenght * breadth\n",
    "        print(area)\n",
    "\n",
    "a1 = AreaOFRectangle()\n",
    "a1.calculate(10,20)"
   ]
  },
  {
   "cell_type": "markdown",
   "metadata": {},
   "source": [
    "### 11) Calculate the area of a square. \n",
    "### Include a Constructor, a method to calculate area named area() and a method named output() that prints the output and is invoked by area()."
   ]
  },
  {
   "cell_type": "code",
   "execution_count": 16,
   "metadata": {},
   "outputs": [
    {
     "name": "stdout",
     "output_type": "stream",
     "text": [
      "36\n"
     ]
    }
   ],
   "source": [
    "class AreaOfSquare:\n",
    "    def __init__(self,lenght):\n",
    "        self.lenght = lenght\n",
    "\n",
    "    def area(self):\n",
    "        area = self.lenght * self.lenght\n",
    "        self.output(area)\n",
    "\n",
    "    def output(self,a):\n",
    "        print(a)\n",
    "\n",
    "a1 = AreaOfSquare(6)\n",
    "a1.area()"
   ]
  },
  {
   "cell_type": "markdown",
   "metadata": {},
   "source": [
    "### 12) Calculate the area of a rectangle. \n",
    "### Include a Constructor, a method to calculate area named area() and a method named output() that prints the output and is invoked by area().\n",
    "### Also define a class method that compares the two sides of reactangle. An object is instantiated only if the two sides are different; otherwise a message should be displayed : THIS IS SQUARE."
   ]
  },
  {
   "cell_type": "code",
   "execution_count": 45,
   "metadata": {},
   "outputs": [
    {
     "name": "stdout",
     "output_type": "stream",
     "text": [
      "THIS IS SQURE.\n"
     ]
    }
   ],
   "source": [
    "class AreaofRectangle:\n",
    "    def __init__(self,lenght,breadth):\n",
    "        self.lenght = lenght\n",
    "        self.breadth = breadth\n",
    "\n",
    "    @classmethod\n",
    "    def buildRect(self,l,b):\n",
    "        if l==b:\n",
    "            print(\"THIS IS SQURE.\")\n",
    "            return None\n",
    "        else:\n",
    "            return AreaofRectangle(l,b)\n",
    "            \n",
    "    def area(self):\n",
    "        area = self.lenght * self.breadth\n",
    "        self.output(area)\n",
    "\n",
    "    def output(self,a):\n",
    "        print(a)\n",
    "\n",
    "\n",
    "a1 = AreaofRectangle.buildRect(10,10)\n",
    "if a1:\n",
    "    a1.area()"
   ]
  },
  {
   "cell_type": "markdown",
   "metadata": {},
   "source": [
    "### 13) Define a class Square having a private attribute \"side\". \n",
    "### Implement get_side and set_side methods to accees the private attribute from outside of the class."
   ]
  },
  {
   "cell_type": "code",
   "execution_count": 9,
   "metadata": {},
   "outputs": [
    {
     "name": "stdout",
     "output_type": "stream",
     "text": [
      "10\n"
     ]
    }
   ],
   "source": [
    "class Square:\n",
    "    def set_side(self,t):\n",
    "        self.__side = t\n",
    "    def get_side(self):\n",
    "        print(self.__side)\n",
    "\n",
    "sq = Square()\n",
    "sq.set_side(10)\n",
    "sq.get_side()\n",
    "         "
   ]
  },
  {
   "cell_type": "markdown",
   "metadata": {},
   "source": [
    "### 14) Create a class Profit that has a method named getProfit that accepts profit from the user.\n",
    "### Create a class Loss that has a method named getLoss that accepts loss from the user.\n",
    "### Create a class BalanceSheet that inherits from both classes Profit and Loss and calculates the balanace. It has two methods getBalance() and printBalance()."
   ]
  },
  {
   "cell_type": "code",
   "execution_count": 1,
   "metadata": {},
   "outputs": [
    {
     "name": "stdin",
     "output_type": "stream",
     "text": [
      "Enter profit:  1000\n",
      "Enter loss:  20\n"
     ]
    },
    {
     "name": "stdout",
     "output_type": "stream",
     "text": [
      "Profit: 1000.0\n",
      "Loss: 20.0\n",
      "Balance: 980.0\n"
     ]
    }
   ],
   "source": [
    "class Profit:\n",
    "    def getProfit(self):\n",
    "        self.profit = float(input(\"Enter profit: \"))\n",
    "        \n",
    "class Loss:\n",
    "    def getLoss(self):\n",
    "        self.loss = float(input(\"Enter loss: \"))\n",
    "\n",
    "class BalanceSheet(Profit, Loss):\n",
    "    def getBalance(self):\n",
    "        self.balance = self.profit - self.loss\n",
    "        \n",
    "    def printBalance(self):\n",
    "        print(f\"Profit: {self.profit}\")\n",
    "        print(f\"Loss: {self.loss}\")\n",
    "        print(f\"Balance: {self.balance}\")\n",
    "        \n",
    "balance = BalanceSheet()\n",
    "balance.getProfit()\n",
    "balance.getLoss()\n",
    "balance.getBalance()\n",
    "balance.printBalance()\n"
   ]
  },
  {
   "attachments": {},
   "cell_type": "markdown",
   "metadata": {},
   "source": [
    "### 15) WAP to demonstrate all types of inheritance."
   ]
  },
  {
   "cell_type": "code",
   "execution_count": 3,
   "metadata": {},
   "outputs": [
    {
     "name": "stdout",
     "output_type": "stream",
     "text": [
      "Animal makes a sound.\n",
      "Dog barks.\n",
      "Dog barks.\n",
      "Bird flies.\n",
      "Bat screeches.\n",
      "Hello from Grandparent.\n",
      "Hello from Parent.\n",
      "Child plays.\n",
      "Animals live in various habitats.\n",
      "Tiger roars.\n",
      "Animals live in various habitats.\n",
      "Lion growls.\n",
      "Vehicles have wheels.\n",
      "Car has an engine.\n",
      "Electric car uses a battery.\n"
     ]
    }
   ],
   "source": [
    "# Single Inheritance\n",
    "class Animal:\n",
    "    def speak(self):\n",
    "        print(\"Animal makes a sound.\")\n",
    "\n",
    "class Dog(Animal): \n",
    "    def bark(self):\n",
    "        print(\"Dog barks.\")\n",
    "\n",
    "# Multiple Inheritance\n",
    "class Bird:\n",
    "    def fly(self):\n",
    "        print(\"Bird flies.\")\n",
    "\n",
    "class Bat(Dog, Bird):  \n",
    "    def sound(self):\n",
    "        print(\"Bat screeches.\")\n",
    "\n",
    "# Multilevel Inheritance\n",
    "class Grandparent:\n",
    "    def greet(self):\n",
    "        print(\"Hello from Grandparent.\")\n",
    "\n",
    "class Parent(Grandparent):\n",
    "    def talk(self):\n",
    "        print(\"Hello from Parent.\")\n",
    "\n",
    "class Child(Parent):\n",
    "    def play(self):\n",
    "        print(\"Child plays.\")\n",
    "\n",
    "# Hierarchical Inheritance\n",
    "class AnimalKingdom:\n",
    "    def habitat(self):\n",
    "        print(\"Animals live in various habitats.\")\n",
    "\n",
    "class Tiger(AnimalKingdom): \n",
    "    def roar(self):\n",
    "        print(\"Tiger roars.\")\n",
    "\n",
    "class Lion(AnimalKingdom):  \n",
    "    def growl(self):\n",
    "        print(\"Lion growls.\")\n",
    "\n",
    "class Vehicle:\n",
    "    def wheels(self):\n",
    "        print(\"Vehicles have wheels.\")\n",
    "\n",
    "class Car(Vehicle):\n",
    "    def engine(self):\n",
    "        print(\"Car has an engine.\")\n",
    "\n",
    "class ElectricCar(Car, Vehicle):\n",
    "    def battery(self):\n",
    "        print(\"Electric car uses a battery.\")\n",
    "\n",
    "\n",
    "# Single Inheritance\n",
    "dog = Dog()\n",
    "dog.speak()  \n",
    "dog.bark()   \n",
    "\n",
    "# Multiple Inheritance\n",
    "bat = Bat()\n",
    "bat.bark()  \n",
    "bat.fly()    \n",
    "bat.sound()  \n",
    "\n",
    "# Multilevel Inheritance\n",
    "child = Child()\n",
    "child.greet()\n",
    "child.talk()\n",
    "child.play() \n",
    "\n",
    "# Hierarchical Inheritance\n",
    "tiger = Tiger()\n",
    "tiger.habitat() \n",
    "tiger.roar()    \n",
    "\n",
    "lion = Lion()\n",
    "lion.habitat()  \n",
    "lion.growl()    \n",
    "\n",
    "# Hybrid Inheritance\n",
    "e_car = ElectricCar()\n",
    "e_car.wheels()   \n",
    "e_car.engine()  \n",
    "e_car.battery() "
   ]
  },
  {
   "cell_type": "markdown",
   "metadata": {},
   "source": [
    "### 16) Create a Person class with a constructor that takes two arguments name and age. \n",
    "### Create a child class Employee that inherits from Person and adds a new attribute salary. \n",
    "### Override the __init__ method in Employee to call the parent class's __init__ method using the super() and then initialize the salary attribute."
   ]
  },
  {
   "cell_type": "code",
   "execution_count": 3,
   "metadata": {},
   "outputs": [
    {
     "name": "stdout",
     "output_type": "stream",
     "text": [
      "Karan 20\n",
      "1000\n"
     ]
    }
   ],
   "source": [
    "class Person:\n",
    "    def __init__(self,name,age):\n",
    "        self.name = name \n",
    "        self.age = age\n",
    "\n",
    "    def display(self):\n",
    "        print(self.name,self.age)\n",
    "\n",
    "class Employee(Person):\n",
    "    def __init__(self,name,age,salary):\n",
    "        super().__init__(name,age)\n",
    "        self.salary = salary\n",
    "\n",
    "    def display(self):\n",
    "        super().display()\n",
    "        print(self.salary)\n",
    "\n",
    "e1 = Employee(\"Karan\",20,1000)\n",
    "e1.display()"
   ]
  },
  {
   "cell_type": "markdown",
   "metadata": {},
   "source": [
    "### 17) Create a Shape class with a draw method that is not implemented. \n",
    "### Create three child classes Rectangle, Circle, and Triangle that implement the draw method with their respective drawing behaviors. \n",
    "### Create a list of Shape objects that includes one instance of each child class, and then iterate through the list and call the draw method on each object."
   ]
  },
  {
   "cell_type": "code",
   "execution_count": 5,
   "metadata": {},
   "outputs": [
    {
     "name": "stdout",
     "output_type": "stream",
     "text": [
      "Drawing a Rectangle.\n",
      "Drawing a Circle.\n",
      "Drawing a Triangle.\n"
     ]
    }
   ],
   "source": [
    "from abc import ABC, abstractmethod\n",
    "\n",
    "class Shape(ABC):\n",
    "    @abstractmethod\n",
    "    def draw(self):\n",
    "        pass\n",
    "\n",
    "class Rectangle(Shape):\n",
    "    def draw(self):\n",
    "        print(\"Drawing a Rectangle.\")\n",
    "\n",
    "class Circle(Shape):\n",
    "    def draw(self):\n",
    "        print(\"Drawing a Circle.\")\n",
    "\n",
    "class Triangle(Shape):\n",
    "    def draw(self):\n",
    "        print(\"Drawing a Triangle.\")\n",
    "\n",
    "shapes = [Rectangle(), Circle(), Triangle()]\n",
    "\n",
    "for shape in shapes:\n",
    "    shape.draw()\n"
   ]
  }
 ],
 "metadata": {
  "kernelspec": {
   "display_name": "Python 3 (ipykernel)",
   "language": "python",
   "name": "python3"
  },
  "language_info": {
   "codemirror_mode": {
    "name": "ipython",
    "version": 3
   },
   "file_extension": ".py",
   "mimetype": "text/x-python",
   "name": "python",
   "nbconvert_exporter": "python",
   "pygments_lexer": "ipython3",
   "version": "3.12.7"
  }
 },
 "nbformat": 4,
 "nbformat_minor": 4
}
